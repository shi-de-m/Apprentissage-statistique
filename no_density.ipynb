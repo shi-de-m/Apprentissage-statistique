{
 "cells": [
  {
   "cell_type": "code",
   "execution_count": 17,
   "metadata": {},
   "outputs": [],
   "source": [
    "import matplotlib as mpl\n",
    "import matplotlib.pyplot as plt\n",
    "import numpy as np\n",
    "import os\n",
    "import pandas as pd\n",
    "import sklearn\n",
    "import sys\n",
    "from datetime import datetime\n",
    "from collections import deque\n",
    "from sklearn import preprocessing \n",
    "from sklearn.preprocessing import MinMaxScaler \n",
    "import math\n",
    "import time\n",
    "from datetime import date\n",
    "import random\n",
    "import matplotlib. pyplot as plt\n",
    "from math import sqrt\n",
    "from sklearn.metrics import mean_squared_error\n",
    "from sklearn.model_selection import train_test_split\n",
    "from sklearn.decomposition import PCA\n",
    "from sklearn.cluster import MiniBatchKMeans\n",
    "import datetime as dt"
   ]
  },
  {
   "cell_type": "code",
   "execution_count": 18,
   "metadata": {},
   "outputs": [],
   "source": [
    "train_data = pd.read_csv(\"train.csv\", sep = \",\")\n",
    "train_data = pd.DataFrame(train_data, copy = 1)\n",
    "test_data = pd.read_csv(\"test.csv\", sep = \",\")\n",
    "test = test_data.copy()\n",
    "test_data = pd.DataFrame(test_data, copy = 1)"
   ]
  },
  {
   "cell_type": "code",
   "execution_count": 19,
   "metadata": {},
   "outputs": [],
   "source": [
    "train_data['pickup_datetime'] = pd.to_datetime(train_data.pickup_datetime) # Pickups\n",
    "# data['dropoff_datetime'] = pd.to_datetime(data.dropoff_datetime) # Drop-offs\n",
    "train_data['pickup_date'] = train_data['pickup_datetime'].dt.date # Extract date\n",
    "train_data['pickup_time'] = train_data['pickup_datetime'].dt.time # Extract time\n",
    "train_data['pickup_hour'] = train_data['pickup_datetime'].dt.hour # Extract hour\n",
    "train_data['pickup_weekday'] = train_data['pickup_datetime'].dt.dayofweek # Extract day of week\n",
    "# train_data.drop(['pickup_datetime'], axis = 1, inplace = True)\n",
    "train_data.drop(['dropoff_datetime'], axis = 1, inplace = True)\n",
    "# train_data.drop(['id'], axis = 1, inplace = True)\n",
    "# train_data.drop(['vendor_id'], axis = 1, inplace = True)\n",
    "\n",
    "test_data['pickup_datetime'] = pd.to_datetime(test_data.pickup_datetime)\n",
    "test_data['pickup_date'] = test_data['pickup_datetime'].dt.date # Extract date\n",
    "test_data['pickup_time'] = test_data['pickup_datetime'].dt.time # Extract time\n",
    "test_data['pickup_hour'] = test_data['pickup_datetime'].dt.hour # Extract hour\n",
    "test_data['pickup_weekday'] = test_data['pickup_datetime'].dt.dayofweek # Extract day of week\n",
    "# test_data.drop(['pickup_datetime'], axis = 1, inplace = True)\n",
    "\n",
    "# test_data.drop(['dropoff_datetime'], axis = 1, inplace = True)\n",
    "test_data.drop(['id'], axis = 1, inplace = True)\n",
    "test_data.drop(['vendor_id'], axis = 1, inplace = True)"
   ]
  },
  {
   "cell_type": "code",
   "execution_count": 20,
   "metadata": {},
   "outputs": [],
   "source": [
    "# fonction pour calculer les distances à vol d'oiseau\n",
    "\n",
    "def haversine_array(lat1, lng1, lat2, lng2):\n",
    "    lat1, lng1, lat2, lng2 = map(np.radians, (lat1, lng1, lat2, lng2))\n",
    "    AVG_EARTH_RADIUS = 6371  # in km\n",
    "    lat = lat2 - lat1\n",
    "    lng = lng2 - lng1\n",
    "    d = np.sin(lat * 0.5) ** 2 + np.cos(lat1) * np.cos(lat2) * np.sin(lng * 0.5) ** 2\n",
    "    h = 2 * AVG_EARTH_RADIUS * np.arcsin(np.sqrt(d))\n",
    "    return h\n",
    "\n",
    "# les distances pour Manhattan peuvent être assimiliées à des déplacements simples (on utilise la distance de Manhattan)\n",
    "def manhattan_distance(lat1, lng1, lat2, lng2):\n",
    "    a = haversine_array(lat1, lng1, lat1, lng2)\n",
    "    b = haversine_array(lat1, lng1, lat2, lng1)\n",
    "    return a + b\n",
    "\n",
    "def bearing_array(lat1, lng1, lat2, lng2):\n",
    "    AVG_EARTH_RADIUS = 6371  # in km\n",
    "    lng_delta_rad = np.radians(lng2 - lng1)\n",
    "    lat1, lng1, lat2, lng2 = map(np.radians, (lat1, lng1, lat2, lng2))\n",
    "    y = np.sin(lng_delta_rad) * np.cos(lat2)\n",
    "    x = np.cos(lat1) * np.sin(lat2) - np.sin(lat1) * np.cos(lat2) * np.cos(lng_delta_rad)\n",
    "    return np.degrees(np.arctan2(y, x))\n",
    "# train_data.loc[:, 'distance_haversine'] = haversine_array(train_data['pickup_latitude'].values, train_data['pickup_longitude'].values, train_data['dropoff_latitude'].values, train_data['dropoff_longitude'].values)\n",
    "\n",
    "train_data.loc[:, 'distance_manhattan'] = manhattan_distance(train_data['pickup_latitude'].values, train_data['pickup_longitude'].values, train_data['dropoff_latitude'].values, train_data['dropoff_longitude'].values)\n",
    "test_data.loc[:, 'distance_manhattan'] = manhattan_distance(test_data['pickup_latitude'].values, test_data['pickup_longitude'].values, test_data['dropoff_latitude'].values, test_data['dropoff_longitude'].values)\n",
    "\n",
    "train_data.drop(train_data[train_data.trip_duration < 20].index, inplace=True)\n",
    "\n",
    "\n",
    "train_data.loc[:,'speed'] = train_data['distance_manhattan'] / train_data['trip_duration'] * 3.6\n",
    "train_data.drop(train_data[train_data.speed > 0.050].index, inplace=True)\n",
    "train_data.drop(train_data[train_data.speed < 0.003].index, inplace=True)\n",
    "\n",
    "# train_data.drop(train_data[train_data.trip_duration > 5000].index, inplace=True)\n",
    "# train_data.drop(train_data[train_data.trip_duration < 10].index, inplace=True)\n",
    "\n",
    "train_data.drop(train_data[train_data.distance_manhattan < 0.001].index, inplace=True)\n",
    "\n",
    "train_data.drop(train_data[train_data.passenger_count == 0].index, inplace=True)\n",
    "train_data.drop(['speed'], axis = 1, inplace = True)"
   ]
  },
  {
   "cell_type": "code",
   "execution_count": 21,
   "metadata": {},
   "outputs": [],
   "source": [
    "coords = np.vstack((train_data[['pickup_latitude', 'pickup_longitude']].values,\n",
    "                    train_data[['dropoff_latitude', 'dropoff_longitude']].values\n",
    "#                     ,test[['pickup_latitude', 'pickup_longitude']].values,\n",
    "#                     test[['dropoff_latitude', 'dropoff_longitude']].values\n",
    "                   ))\n",
    "\n",
    "pca = PCA().fit(coords)\n",
    "\n",
    "# pca"
   ]
  },
  {
   "cell_type": "code",
   "execution_count": 22,
   "metadata": {},
   "outputs": [],
   "source": [
    "train_data.loc[:, 'direction'] = bearing_array(train_data['pickup_latitude'].values, train_data['pickup_longitude'].values, train_data['dropoff_latitude'].values, train_data['dropoff_longitude'].values)\n",
    "test_data.loc[:, 'direction'] = bearing_array(test_data['pickup_latitude'].values, test_data['pickup_longitude'].values, test_data['dropoff_latitude'].values, test_data['dropoff_longitude'].values)"
   ]
  },
  {
   "cell_type": "code",
   "execution_count": 23,
   "metadata": {},
   "outputs": [],
   "source": [
    "train_data.loc[:, 'distance_haversine'] = haversine_array(train_data['pickup_latitude'].values, train_data['pickup_longitude'].values, train_data['dropoff_latitude'].values, train_data['dropoff_longitude'].values)\n",
    "test_data.loc[:, 'distance_haversine'] = haversine_array(test_data['pickup_latitude'].values, test_data['pickup_longitude'].values, test_data['dropoff_latitude'].values, test_data['dropoff_longitude'].values)\n",
    "\n",
    "train_data.loc[:, 'center_latitude'] = (train_data['pickup_latitude'].values + train_data['dropoff_latitude'].values) / 2\n",
    "train_data.loc[:, 'center_longitude'] = (train_data['pickup_longitude'].values + train_data['dropoff_longitude'].values) / 2\n",
    "test_data.loc[:, 'center_latitude'] = (test_data['pickup_latitude'].values + test_data['dropoff_latitude'].values) / 2\n",
    "test_data.loc[:, 'center_longitude'] = (test_data['pickup_longitude'].values + test_data['dropoff_longitude'].values) / 2"
   ]
  },
  {
   "cell_type": "code",
   "execution_count": 24,
   "metadata": {},
   "outputs": [],
   "source": [
    "train_data.loc[:, 'avg_speed_h'] = 1000 * train_data['distance_haversine'] / train_data['trip_duration']\n",
    "train_data.loc[:, 'avg_speed_m'] = 1000 * train_data['distance_manhattan'] / train_data['trip_duration']\n",
    "\n",
    "train_data.loc[:, 'pickup_dt'] = (train_data['pickup_datetime'] - train_data['pickup_datetime'].min()).dt.total_seconds()\n",
    "test_data.loc[:, 'pickup_dt'] = (test_data['pickup_datetime'] - test_data['pickup_datetime'].min()).dt.total_seconds()\n"
   ]
  },
  {
   "cell_type": "code",
   "execution_count": 25,
   "metadata": {},
   "outputs": [
    {
     "data": {
      "image/png": "[encoded data removed]",
      "text/plain": [
       "<Figure size 432x288 with 1 Axes>"
      ]
     },
     "metadata": {
      "needs_background": "light"
     },
     "output_type": "display_data"
    }
   ],
   "source": [
    "N = 100000\n",
    "train_data.loc[:, 'pickup_lat_bin'] = np.round(train_data['pickup_latitude'], 3)\n",
    "train_data.loc[:, 'pickup_long_bin'] = np.round(train_data['pickup_longitude'], 3)\n",
    "# Average speed for regions\n",
    "gby_cols = ['pickup_lat_bin', 'pickup_long_bin']\n",
    "coord_speed = train_data.groupby(gby_cols).mean()[['avg_speed_h']].reset_index()\n",
    "coord_count = train_data.groupby(gby_cols).count()[['id']].reset_index()\n",
    "coord_stats = pd.merge(coord_speed, coord_count, on=gby_cols)\n",
    "coord_stats = coord_stats[coord_stats['id'] > 100]\n",
    "fig, ax = plt.subplots(ncols=1, nrows=1)\n",
    "ax.scatter(train_data.pickup_longitude.values[:N], train_data.pickup_latitude.values[:N],\n",
    "           color='black', s=1, alpha=0.5)\n",
    "ax.scatter(coord_stats.pickup_long_bin.values, coord_stats.pickup_lat_bin.values,\n",
    "           c=coord_stats.avg_speed_h.values,\n",
    "           cmap='RdYlGn', s=20, alpha=0.5, vmin=1, vmax=8)\n",
    "# ax.set_xlim(city_long_border)\n",
    "# ax.set_ylim(city_lat_border)\n",
    "ax.set_xlabel('Longitude')\n",
    "ax.set_ylabel('Latitude')\n",
    "plt.title('Average speed')\n",
    "plt.show()\n",
    "\n",
    "train_data.loc[:, 'pickup_lat_bin'] = np.round(train_data['pickup_latitude'], 2)\n",
    "train_data.loc[:, 'pickup_long_bin'] = np.round(train_data['pickup_longitude'], 2)\n",
    "train_data.loc[:, 'center_lat_bin'] = np.round(train_data['center_latitude'], 2)\n",
    "train_data.loc[:, 'center_long_bin'] = np.round(train_data['center_longitude'], 2)\n",
    "train_data.loc[:, 'pickup_dt_bin'] = (train_data['pickup_dt'] // (3 * 3600))\n",
    "test_data.loc[:, 'pickup_lat_bin'] = np.round(test_data['pickup_latitude'], 2)\n",
    "test_data.loc[:, 'pickup_long_bin'] = np.round(test_data['pickup_longitude'], 2)\n",
    "test_data.loc[:, 'center_lat_bin'] = np.round(test_data['center_latitude'], 2)\n",
    "test_data.loc[:, 'center_long_bin'] = np.round(test_data['center_longitude'], 2)\n",
    "test_data.loc[:, 'pickup_dt_bin'] = (test_data['pickup_dt'] // (3 * 3600))"
   ]
  },
  {
   "cell_type": "code",
   "execution_count": 26,
   "metadata": {},
   "outputs": [],
   "source": [
    "sample_ind = np.random.permutation(len(coords))[:500000]\n",
    "kmeans = MiniBatchKMeans(n_clusters=100, batch_size=10000).fit(coords[sample_ind])\n",
    "\n",
    "train_data.loc[:, 'pickup_cluster'] = kmeans.predict(train_data[['pickup_latitude', 'pickup_longitude']])\n",
    "train_data.loc[:, 'dropoff_cluster'] = kmeans.predict(train_data[['dropoff_latitude', 'dropoff_longitude']])\n",
    "test_data.loc[:, 'pickup_cluster'] = kmeans.predict(test_data[['pickup_latitude', 'pickup_longitude']])\n",
    "test_data.loc[:, 'dropoff_cluster'] = kmeans.predict(test_data[['dropoff_latitude', 'dropoff_longitude']])\n",
    "t1 = dt.datetime.now()"
   ]
  },
  {
   "cell_type": "code",
   "execution_count": 122,
   "metadata": {},
   "outputs": [
    {
     "data": {
      "text/plain": [
       "Index(['pickup_datetime', 'passenger_count', 'pickup_longitude',\n",
       "       'pickup_latitude', 'dropoff_longitude', 'dropoff_latitude',\n",
       "       'store_and_fwd_flag', 'pickup_date', 'pickup_time', 'pickup_hour',\n",
       "       'pickup_weekday', 'distance_manhattan', 'direction',\n",
       "       'distance_haversine', 'center_latitude', 'center_longitude',\n",
       "       'pickup_dt', 'pickup_lat_bin', 'pickup_long_bin', 'center_lat_bin',\n",
       "       'center_long_bin', 'pickup_dt_bin', 'pickup_cluster',\n",
       "       'dropoff_cluster'],\n",
       "      dtype='object')"
      ]
     },
     "execution_count": 122,
     "metadata": {},
     "output_type": "execute_result"
    }
   ],
   "source": [
    "test_data.columns"
   ]
  },
  {
   "cell_type": "code",
   "execution_count": null,
   "metadata": {},
   "outputs": [],
   "source": [
    "# [ 'direction',\n",
    "#        'distance_haversine', 'center_latitude', 'center_longitude',\n",
    "#        'pickup_dt', 'pickup_lat_bin', 'pickup_long_bin', 'center_lat_bin',\n",
    "#        'center_long_bin', 'pickup_dt_bin', 'pickup_cluster',\n",
    "#        'dropoff_cluster',]"
   ]
  },
  {
   "cell_type": "code",
   "execution_count": 49,
   "metadata": {},
   "outputs": [],
   "source": [
    "# train_data.drop(['pickup_hour'], axis = 1, inplace = True)\n",
    "# train_data.drop(['pickup_weekday'], axis = 1, inplace = True)\n",
    "# test_data.drop(['pickup_hour'], axis = 1, inplace = True)\n",
    "# test_data.drop(['pickup_weekday'], axis = 1, inplace = True)"
   ]
  },
  {
   "cell_type": "code",
   "execution_count": 27,
   "metadata": {},
   "outputs": [],
   "source": [
    "train_data.drop(['store_and_fwd_flag'], axis = 1, inplace = True)\n",
    "# train_data.drop(['pickup_date'], axis = 1, inplace = True)\n",
    "# train_data.drop(['pickup_time'], axis = 1, inplace = True)\n",
    "train_data.drop(['pickup_datetime'], axis = 1, inplace = True)\n",
    "train_data_tree_X = train_data[['direction',\n",
    "       'distance_haversine', 'center_latitude', 'center_longitude',\n",
    "       'pickup_dt', 'pickup_lat_bin', 'pickup_long_bin', 'center_lat_bin',\n",
    "       'center_long_bin', 'pickup_dt_bin', 'pickup_cluster',\n",
    "       'dropoff_cluster','distance_haversine','passenger_count','pickup_hour', 'pickup_weekday', 'distance_manhattan', 'pickup_longitude', 'pickup_latitude', 'dropoff_longitude', 'dropoff_latitude']]\n",
    "train_data_tree_y = train_data['trip_duration']\n",
    "\n",
    "\n",
    "# test_data.drop(['pickup_longitude'], axis = 1, inplace = True)\n",
    "# test_data.drop(['pickup_latitude'], axis = 1, inplace = True)\n",
    "# test_data.drop(['dropoff_longitude'], axis = 1, inplace = True)\n",
    "# test_data.drop(['dropoff_latitude'], axis = 1, inplace = True)\n",
    "test_data.drop(['store_and_fwd_flag'], axis = 1, inplace = True)\n",
    "# test_data.drop(['pickup_date'], axis = 1, inplace = True)\n",
    "# test_data.drop(['pickup_time'], axis = 1, inplace = True)\n",
    "test_data.drop(['pickup_datetime'], axis = 1, inplace = True)\n",
    "test_data_tree_X = test_data[['direction',\n",
    "       'distance_haversine', 'center_latitude', 'center_longitude',\n",
    "       'pickup_dt', 'pickup_lat_bin', 'pickup_long_bin', 'center_lat_bin',\n",
    "       'center_long_bin', 'pickup_dt_bin', 'pickup_cluster',\n",
    "       'dropoff_cluster','distance_haversine','passenger_count','pickup_hour', 'pickup_weekday', 'distance_manhattan', 'pickup_longitude', 'pickup_latitude', 'dropoff_longitude', 'dropoff_latitude']]\n",
    "# test_data_tree_y = test_data['trip_duration']"
   ]
  },
  {
   "cell_type": "code",
   "execution_count": 165,
   "metadata": {},
   "outputs": [
    {
     "data": {
      "text/html": [
       "<div>\n",
       "<style scoped>\n",
       "    .dataframe tbody tr th:only-of-type {\n",
       "        vertical-align: middle;\n",
       "    }\n",
       "\n",
       "    .dataframe tbody tr th {\n",
       "        vertical-align: top;\n",
       "    }\n",
       "\n",
       "    .dataframe thead th {\n",
       "        text-align: right;\n",
       "    }\n",
       "</style>\n",
       "<table border=\"1\" class=\"dataframe\">\n",
       "  <thead>\n",
       "    <tr style=\"text-align: right;\">\n",
       "      <th></th>\n",
       "      <th>pickup_cluster</th>\n",
       "      <th>dropoff_cluster</th>\n",
       "    </tr>\n",
       "  </thead>\n",
       "  <tbody>\n",
       "    <tr>\n",
       "      <td>0</td>\n",
       "      <td>73</td>\n",
       "      <td>95</td>\n",
       "    </tr>\n",
       "    <tr>\n",
       "      <td>1</td>\n",
       "      <td>89</td>\n",
       "      <td>0</td>\n",
       "    </tr>\n",
       "    <tr>\n",
       "      <td>2</td>\n",
       "      <td>32</td>\n",
       "      <td>58</td>\n",
       "    </tr>\n",
       "    <tr>\n",
       "      <td>3</td>\n",
       "      <td>40</td>\n",
       "      <td>58</td>\n",
       "    </tr>\n",
       "    <tr>\n",
       "      <td>4</td>\n",
       "      <td>80</td>\n",
       "      <td>39</td>\n",
       "    </tr>\n",
       "    <tr>\n",
       "      <td>...</td>\n",
       "      <td>...</td>\n",
       "      <td>...</td>\n",
       "    </tr>\n",
       "    <tr>\n",
       "      <td>1458638</td>\n",
       "      <td>42</td>\n",
       "      <td>65</td>\n",
       "    </tr>\n",
       "    <tr>\n",
       "      <td>1458639</td>\n",
       "      <td>86</td>\n",
       "      <td>77</td>\n",
       "    </tr>\n",
       "    <tr>\n",
       "      <td>1458640</td>\n",
       "      <td>79</td>\n",
       "      <td>80</td>\n",
       "    </tr>\n",
       "    <tr>\n",
       "      <td>1458642</td>\n",
       "      <td>64</td>\n",
       "      <td>53</td>\n",
       "    </tr>\n",
       "    <tr>\n",
       "      <td>1458643</td>\n",
       "      <td>11</td>\n",
       "      <td>63</td>\n",
       "    </tr>\n",
       "  </tbody>\n",
       "</table>\n",
       "<p>1411092 rows × 2 columns</p>\n",
       "</div>"
      ],
      "text/plain": [
       "         pickup_cluster  dropoff_cluster\n",
       "0                    73               95\n",
       "1                    89                0\n",
       "2                    32               58\n",
       "3                    40               58\n",
       "4                    80               39\n",
       "...                 ...              ...\n",
       "1458638              42               65\n",
       "1458639              86               77\n",
       "1458640              79               80\n",
       "1458642              64               53\n",
       "1458643              11               63\n",
       "\n",
       "[1411092 rows x 2 columns]"
      ]
     },
     "execution_count": 165,
     "metadata": {},
     "output_type": "execute_result"
    }
   ],
   "source": [
    "train_data[['pickup_cluster',\n",
    "       'dropoff_cluster']]"
   ]
  },
  {
   "cell_type": "code",
   "execution_count": 28,
   "metadata": {},
   "outputs": [
    {
     "name": "stdout",
     "output_type": "stream",
     "text": [
      "La RMSE de l'arbre de régression 334.1384229255774\n",
      "La RMLSE de l'arbre de régression 0.3913443363152478\n"
     ]
    }
   ],
   "source": [
    "# As with other classifiers, DecisionTreeClassifier takes as input two arrays: an array X, sparse or dense, of size [n_samples, n_features] holding the training samples, and an array Y of integer values, size [n_samples], holding the class labels for the training samples:\n",
    "from sklearn import tree\n",
    "from sklearn.metrics import mean_squared_log_error\n",
    "\n",
    "X=train_data_tree_X\n",
    "X_test = test_data_tree_X\n",
    "y=train_data_tree_y\n",
    "\n",
    "reg = tree.DecisionTreeRegressor(max_leaf_nodes=100)\n",
    "reg = reg.fit(X,y)\n",
    "y_train_predict_tree=reg.predict(X)\n",
    "\n",
    "print(\"La RMSE de l'arbre de régression\",sqrt(mean_squared_error(y, y_train_predict_tree)))\n",
    "print(\"La RMLSE de l'arbre de régression\",sqrt(mean_squared_log_error(y, y_train_predict_tree)))\n",
    "\n",
    "#from sklearn.model_selection import cross_validate\n",
    "\n",
    "\n",
    "#X1, X2, y1, y2 = train_test_split(X, y, random_state=6)\n",
    "\n",
    "\n",
    "\n",
    "\n",
    "#depth = []\n",
    "#for i in range(1,2):\n",
    "#    clf = tree.DecisionTreeRegressor(max_depth=90000+i*1000)\n",
    "#    clf = clf.fit(X1,y1)\n",
    "#    print(90000+i*1000,\" \",sqrt(mean_squared_error(clf.predict(X2), y2)))\n",
    "#    depth.append((90000+i*1000,sqrt(mean_squared_error(clf.predict(X2), y2))))\n",
    "#print (depth)\n",
    "\n"
   ]
  },
  {
   "cell_type": "code",
   "execution_count": 29,
   "metadata": {},
   "outputs": [
    {
     "data": {
      "image/png": "[encoded data removed]",
      "text/plain": [
       "<Figure size 432x288 with 1 Axes>"
      ]
     },
     "metadata": {
      "needs_background": "light"
     },
     "output_type": "display_data"
    },
    {
     "data": {
      "image/png": "[encoded data removed]",
      "text/plain": [
       "<Figure size 432x288 with 1 Axes>"
      ]
     },
     "metadata": {
      "needs_background": "light"
     },
     "output_type": "display_data"
    }
   ],
   "source": [
    "mpl.rcParams['agg.path.chunksize'] = 10000\n",
    "plt.plot(y_train_predict_tree,y,'.')\n",
    "plt.show()\n",
    "plt.plot(y,y_train_predict_tree-y,'.')\n",
    "plt.show()"
   ]
  },
  {
   "cell_type": "code",
   "execution_count": 30,
   "metadata": {},
   "outputs": [],
   "source": [
    "y_test_predict_tree=reg.predict(X_test)"
   ]
  },
  {
   "cell_type": "code",
   "execution_count": 31,
   "metadata": {},
   "outputs": [],
   "source": [
    "my_submission = pd.DataFrame({'id': test.id, 'trip_duration': y_test_predict_tree})\n",
    "my_submission.to_csv('submission_tree.csv', index=False)"
   ]
  },
  {
   "cell_type": "code",
   "execution_count": null,
   "metadata": {},
   "outputs": [],
   "source": []
  },
  {
   "cell_type": "code",
   "execution_count": null,
   "metadata": {},
   "outputs": [],
   "source": []
  },
  {
   "cell_type": "code",
   "execution_count": null,
   "metadata": {},
   "outputs": [],
   "source": []
  },
  {
   "cell_type": "code",
   "execution_count": null,
   "metadata": {},
   "outputs": [],
   "source": []
  }
 ],
 "metadata": {
  "kernelspec": {
   "display_name": "Python 3",
   "language": "python",
   "name": "python3"
  },
  "language_info": {
   "codemirror_mode": {
    "name": "ipython",
    "version": 3
   },
   "file_extension": ".py",
   "mimetype": "text/x-python",
   "name": "python",
   "nbconvert_exporter": "python",
   "pygments_lexer": "ipython3",
   "version": "3.7.4"
  }
 },
 "nbformat": 4,
 "nbformat_minor": 4
}
