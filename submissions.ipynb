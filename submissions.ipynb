{
 "cells": [
  {
   "cell_type": "code",
   "execution_count": 17,
   "metadata": {},
   "outputs": [],
   "source": [
    "import matplotlib as mpl\n",
    "import matplotlib.pyplot as plt\n",
    "import numpy as np\n",
    "import os\n",
    "import pandas as pd\n",
    "import sklearn\n",
    "import sys\n",
    "from datetime import datetime\n",
    "from collections import deque\n",
    "from sklearn import preprocessing \n",
    "from sklearn.preprocessing import MinMaxScaler \n",
    "import math\n",
    "import time\n",
    "from datetime import date\n",
    "import random\n",
    "import matplotlib. pyplot as plt\n",
    "from sklearn.decomposition import PCA\n",
    "from math import sqrt\n",
    "from sklearn.metrics import mean_squared_error"
   ]
  },
  {
   "cell_type": "code",
   "execution_count": 18,
   "metadata": {},
   "outputs": [],
   "source": [
    "train_data = pd.read_csv(\"train.csv\", sep = \",\")\n",
    "train_data = pd.DataFrame(train_data, copy = 1)\n",
    "test_data = pd.read_csv(\"test.csv\", sep = \",\")\n",
    "test = test_data.copy()\n",
    "test_data = pd.DataFrame(test_data, copy = 1)"
   ]
  },
  {
   "cell_type": "code",
   "execution_count": 21,
   "metadata": {},
   "outputs": [],
   "source": [
    "train_data.drop(train_data[train_data.trip_duration < 20].index, inplace=True)\n"
   ]
  },
  {
   "cell_type": "code",
   "execution_count": 22,
   "metadata": {},
   "outputs": [],
   "source": [
    "train_data['pickup_datetime'] = pd.to_datetime(train_data.pickup_datetime) # Pickups\n",
    "# data['dropoff_datetime'] = pd.to_datetime(data.dropoff_datetime) # Drop-offs\n",
    "train_data['pickup_date'] = train_data['pickup_datetime'].dt.date # Extract date\n",
    "train_data['pickup_time'] = train_data['pickup_datetime'].dt.time # Extract time\n",
    "train_data['pickup_hour'] = train_data['pickup_datetime'].dt.hour # Extract hour\n",
    "train_data['pickup_weekday'] = train_data['pickup_datetime'].dt.dayofweek # Extract day of week\n",
    "# train_data.drop(['pickup_datetime'], axis = 1, inplace = True)\n",
    "train_data.drop(['dropoff_datetime'], axis = 1, inplace = True)\n",
    "train_data.drop(['id'], axis = 1, inplace = True)\n",
    "train_data.drop(['vendor_id'], axis = 1, inplace = True)\n",
    "\n",
    "train_data['catégorie'] = train_data['pickup_datetime'].apply(lambda x: \"%d/%d\" % (x.dayofweek, x.hour))\n",
    "valeurs = train_data.groupby([\"catégorie\"]).size()\n",
    "valeurs = valeurs[(train_data[\"catégorie\"])]\n",
    "train_data['densité'] = valeurs[(train_data[\"catégorie\"])].values\n",
    "train_data.drop(['catégorie'], axis = 1, inplace = True)\n",
    "\n",
    "test_data['pickup_datetime'] = pd.to_datetime(test_data.pickup_datetime)\n",
    "test_data['pickup_date'] = test_data['pickup_datetime'].dt.date # Extract date\n",
    "test_data['pickup_time'] = test_data['pickup_datetime'].dt.time # Extract time\n",
    "test_data['pickup_hour'] = test_data['pickup_datetime'].dt.hour # Extract hour\n",
    "test_data['pickup_weekday'] = test_data['pickup_datetime'].dt.dayofweek # Extract day of week\n",
    "# test_data.drop(['pickup_datetime'], axis = 1, inplace = True)\n",
    "\n",
    "test_data['catégorie'] = test_data['pickup_datetime'].apply(lambda x: \"%d/%d\" % (x.dayofweek, x.hour))\n",
    "valeurs = test_data.groupby([\"catégorie\"]).size()\n",
    "valeurs = valeurs[(test_data[\"catégorie\"])]\n",
    "test_data['densité'] = valeurs[(test_data[\"catégorie\"])].values\n",
    "test_data.drop(['catégorie'], axis = 1, inplace = True)\n",
    "\n",
    "# test_data.drop(['dropoff_datetime'], axis = 1, inplace = True)\n",
    "test_data.drop(['id'], axis = 1, inplace = True)\n",
    "test_data.drop(['vendor_id'], axis = 1, inplace = True)"
   ]
  },
  {
   "cell_type": "code",
   "execution_count": 23,
   "metadata": {},
   "outputs": [],
   "source": [
    "# fonction pour calculer les distances à vol d'oiseau\n",
    "\n",
    "def haversine_array(lat1, lng1, lat2, lng2):\n",
    "    lat1, lng1, lat2, lng2 = map(np.radians, (lat1, lng1, lat2, lng2))\n",
    "    AVG_EARTH_RADIUS = 6371  # in km\n",
    "    lat = lat2 - lat1\n",
    "    lng = lng2 - lng1\n",
    "    d = np.sin(lat * 0.5) ** 2 + np.cos(lat1) * np.cos(lat2) * np.sin(lng * 0.5) ** 2\n",
    "    h = 2 * AVG_EARTH_RADIUS * np.arcsin(np.sqrt(d))\n",
    "    return h\n",
    "\n",
    "# les distances pour Manhattan peuvent être assimiliées à des déplacements simples (on utilise la distance de Manhattan)\n",
    "def manhattan_distance(lat1, lng1, lat2, lng2):\n",
    "    a = haversine_array(lat1, lng1, lat1, lng2)\n",
    "    b = haversine_array(lat1, lng1, lat2, lng1)\n",
    "    return a + b\n",
    "# train_data.loc[:, 'distance_haversine'] = haversine_array(train_data['pickup_latitude'].values, train_data['pickup_longitude'].values, train_data['dropoff_latitude'].values, train_data['dropoff_longitude'].values)\n",
    "\n",
    "train_data.loc[:, 'distance_manhattan'] = manhattan_distance(train_data['pickup_latitude'].values, train_data['pickup_longitude'].values, train_data['dropoff_latitude'].values, train_data['dropoff_longitude'].values)\n",
    "test_data.loc[:, 'distance_manhattan'] = manhattan_distance(test_data['pickup_latitude'].values, test_data['pickup_longitude'].values, test_data['dropoff_latitude'].values, test_data['dropoff_longitude'].values)"
   ]
  },
  {
   "cell_type": "code",
   "execution_count": 25,
   "metadata": {},
   "outputs": [],
   "source": [
    "train_data.loc[:, 'distance_haversine'] = haversine_array(train_data['pickup_latitude'].values, train_data['pickup_longitude'].values, train_data['dropoff_latitude'].values, train_data['dropoff_longitude'].values)\n",
    "test_data.loc[:, 'distance_haversine'] = haversine_array(test_data['pickup_latitude'].values, test_data['pickup_longitude'].values, test_data['dropoff_latitude'].values, test_data['dropoff_longitude'].values)\n",
    "\n",
    "\n",
    "train_data.loc[:, 'avg_speed_h'] = 1000 * train_data['distance_haversine'] / train_data['trip_duration']\n",
    "train_data.loc[:, 'avg_speed_m'] = 1000 * train_data['distance_manhattan'] / train_data['trip_duration']"
   ]
  },
  {
   "cell_type": "code",
   "execution_count": 26,
   "metadata": {},
   "outputs": [],
   "source": [
    "train_data.drop(['pickup_hour'], axis = 1, inplace = True)\n",
    "train_data.drop(['pickup_weekday'], axis = 1, inplace = True)\n",
    "test_data.drop(['pickup_hour'], axis = 1, inplace = True)\n",
    "test_data.drop(['pickup_weekday'], axis = 1, inplace = True)"
   ]
  },
  {
   "cell_type": "code",
   "execution_count": 27,
   "metadata": {},
   "outputs": [],
   "source": [
    "# coords = np.vstack((train_data[['pickup_latitude', 'pickup_longitude']].values,\n",
    "#                     train_data[['dropoff_latitude', 'dropoff_longitude']].values\n",
    "# #                     ,test[['pickup_latitude', 'pickup_longitude']].values,\n",
    "# #                     test[['dropoff_latitude', 'dropoff_longitude']].values\n",
    "#                    ))\n",
    "\n",
    "# pca = PCA().fit(coords)\n",
    "\n",
    "# pca"
   ]
  },
  {
   "cell_type": "code",
   "execution_count": 28,
   "metadata": {},
   "outputs": [
    {
     "ename": "KeyError",
     "evalue": "\"['avg_speed_m', 'avg_speed_h'] not in index\"",
     "output_type": "error",
     "traceback": [
      "\u001b[1;31m---------------------------------------------------------------------------\u001b[0m",
      "\u001b[1;31mKeyError\u001b[0m                                  Traceback (most recent call last)",
      "\u001b[1;32m<ipython-input-28-9fa84123831e>\u001b[0m in \u001b[0;36m<module>\u001b[1;34m\u001b[0m\n\u001b[0;32m     15\u001b[0m \u001b[0mtest_data\u001b[0m\u001b[1;33m.\u001b[0m\u001b[0mdrop\u001b[0m\u001b[1;33m(\u001b[0m\u001b[1;33m[\u001b[0m\u001b[1;34m'pickup_time'\u001b[0m\u001b[1;33m]\u001b[0m\u001b[1;33m,\u001b[0m \u001b[0maxis\u001b[0m \u001b[1;33m=\u001b[0m \u001b[1;36m1\u001b[0m\u001b[1;33m,\u001b[0m \u001b[0minplace\u001b[0m \u001b[1;33m=\u001b[0m \u001b[1;32mTrue\u001b[0m\u001b[1;33m)\u001b[0m\u001b[1;33m\u001b[0m\u001b[1;33m\u001b[0m\u001b[0m\n\u001b[0;32m     16\u001b[0m \u001b[0mtest_data\u001b[0m\u001b[1;33m.\u001b[0m\u001b[0mdrop\u001b[0m\u001b[1;33m(\u001b[0m\u001b[1;33m[\u001b[0m\u001b[1;34m'pickup_datetime'\u001b[0m\u001b[1;33m]\u001b[0m\u001b[1;33m,\u001b[0m \u001b[0maxis\u001b[0m \u001b[1;33m=\u001b[0m \u001b[1;36m1\u001b[0m\u001b[1;33m,\u001b[0m \u001b[0minplace\u001b[0m \u001b[1;33m=\u001b[0m \u001b[1;32mTrue\u001b[0m\u001b[1;33m)\u001b[0m\u001b[1;33m\u001b[0m\u001b[1;33m\u001b[0m\u001b[0m\n\u001b[1;32m---> 17\u001b[1;33m \u001b[0mtest_data_tree_X\u001b[0m \u001b[1;33m=\u001b[0m \u001b[0mtest_data\u001b[0m\u001b[1;33m[\u001b[0m\u001b[1;33m[\u001b[0m\u001b[1;34m'distance_haversine'\u001b[0m\u001b[1;33m,\u001b[0m\u001b[1;34m'avg_speed_h'\u001b[0m\u001b[1;33m,\u001b[0m \u001b[1;34m'avg_speed_m'\u001b[0m\u001b[1;33m,\u001b[0m\u001b[1;34m'passenger_count'\u001b[0m\u001b[1;33m,\u001b[0m \u001b[1;34m'distance_manhattan'\u001b[0m\u001b[1;33m,\u001b[0m \u001b[1;34m'pickup_longitude'\u001b[0m\u001b[1;33m,\u001b[0m \u001b[1;34m'pickup_latitude'\u001b[0m\u001b[1;33m,\u001b[0m \u001b[1;34m'dropoff_longitude'\u001b[0m\u001b[1;33m,\u001b[0m \u001b[1;34m'dropoff_latitude'\u001b[0m\u001b[1;33m,\u001b[0m \u001b[1;34m'densité'\u001b[0m\u001b[1;33m]\u001b[0m\u001b[1;33m]\u001b[0m\u001b[1;33m\u001b[0m\u001b[1;33m\u001b[0m\u001b[0m\n\u001b[0m\u001b[0;32m     18\u001b[0m \u001b[1;31m# test_data_tree_y = test_data['trip_duration']\u001b[0m\u001b[1;33m\u001b[0m\u001b[1;33m\u001b[0m\u001b[1;33m\u001b[0m\u001b[0m\n",
      "\u001b[1;32m~\\Anaconda3\\lib\\site-packages\\pandas\\core\\frame.py\u001b[0m in \u001b[0;36m__getitem__\u001b[1;34m(self, key)\u001b[0m\n\u001b[0;32m   2984\u001b[0m             \u001b[1;32mif\u001b[0m \u001b[0mis_iterator\u001b[0m\u001b[1;33m(\u001b[0m\u001b[0mkey\u001b[0m\u001b[1;33m)\u001b[0m\u001b[1;33m:\u001b[0m\u001b[1;33m\u001b[0m\u001b[1;33m\u001b[0m\u001b[0m\n\u001b[0;32m   2985\u001b[0m                 \u001b[0mkey\u001b[0m \u001b[1;33m=\u001b[0m \u001b[0mlist\u001b[0m\u001b[1;33m(\u001b[0m\u001b[0mkey\u001b[0m\u001b[1;33m)\u001b[0m\u001b[1;33m\u001b[0m\u001b[1;33m\u001b[0m\u001b[0m\n\u001b[1;32m-> 2986\u001b[1;33m             \u001b[0mindexer\u001b[0m \u001b[1;33m=\u001b[0m \u001b[0mself\u001b[0m\u001b[1;33m.\u001b[0m\u001b[0mloc\u001b[0m\u001b[1;33m.\u001b[0m\u001b[0m_convert_to_indexer\u001b[0m\u001b[1;33m(\u001b[0m\u001b[0mkey\u001b[0m\u001b[1;33m,\u001b[0m \u001b[0maxis\u001b[0m\u001b[1;33m=\u001b[0m\u001b[1;36m1\u001b[0m\u001b[1;33m,\u001b[0m \u001b[0mraise_missing\u001b[0m\u001b[1;33m=\u001b[0m\u001b[1;32mTrue\u001b[0m\u001b[1;33m)\u001b[0m\u001b[1;33m\u001b[0m\u001b[1;33m\u001b[0m\u001b[0m\n\u001b[0m\u001b[0;32m   2987\u001b[0m \u001b[1;33m\u001b[0m\u001b[0m\n\u001b[0;32m   2988\u001b[0m         \u001b[1;31m# take() does not accept boolean indexers\u001b[0m\u001b[1;33m\u001b[0m\u001b[1;33m\u001b[0m\u001b[1;33m\u001b[0m\u001b[0m\n",
      "\u001b[1;32m~\\Anaconda3\\lib\\site-packages\\pandas\\core\\indexing.py\u001b[0m in \u001b[0;36m_convert_to_indexer\u001b[1;34m(self, obj, axis, is_setter, raise_missing)\u001b[0m\n\u001b[0;32m   1283\u001b[0m                 \u001b[1;31m# When setting, missing keys are not allowed, even with .loc:\u001b[0m\u001b[1;33m\u001b[0m\u001b[1;33m\u001b[0m\u001b[1;33m\u001b[0m\u001b[0m\n\u001b[0;32m   1284\u001b[0m                 \u001b[0mkwargs\u001b[0m \u001b[1;33m=\u001b[0m \u001b[1;33m{\u001b[0m\u001b[1;34m\"raise_missing\"\u001b[0m\u001b[1;33m:\u001b[0m \u001b[1;32mTrue\u001b[0m \u001b[1;32mif\u001b[0m \u001b[0mis_setter\u001b[0m \u001b[1;32melse\u001b[0m \u001b[0mraise_missing\u001b[0m\u001b[1;33m}\u001b[0m\u001b[1;33m\u001b[0m\u001b[1;33m\u001b[0m\u001b[0m\n\u001b[1;32m-> 1285\u001b[1;33m                 \u001b[1;32mreturn\u001b[0m \u001b[0mself\u001b[0m\u001b[1;33m.\u001b[0m\u001b[0m_get_listlike_indexer\u001b[0m\u001b[1;33m(\u001b[0m\u001b[0mobj\u001b[0m\u001b[1;33m,\u001b[0m \u001b[0maxis\u001b[0m\u001b[1;33m,\u001b[0m \u001b[1;33m**\u001b[0m\u001b[0mkwargs\u001b[0m\u001b[1;33m)\u001b[0m\u001b[1;33m[\u001b[0m\u001b[1;36m1\u001b[0m\u001b[1;33m]\u001b[0m\u001b[1;33m\u001b[0m\u001b[1;33m\u001b[0m\u001b[0m\n\u001b[0m\u001b[0;32m   1286\u001b[0m         \u001b[1;32melse\u001b[0m\u001b[1;33m:\u001b[0m\u001b[1;33m\u001b[0m\u001b[1;33m\u001b[0m\u001b[0m\n\u001b[0;32m   1287\u001b[0m             \u001b[1;32mtry\u001b[0m\u001b[1;33m:\u001b[0m\u001b[1;33m\u001b[0m\u001b[1;33m\u001b[0m\u001b[0m\n",
      "\u001b[1;32m~\\Anaconda3\\lib\\site-packages\\pandas\\core\\indexing.py\u001b[0m in \u001b[0;36m_get_listlike_indexer\u001b[1;34m(self, key, axis, raise_missing)\u001b[0m\n\u001b[0;32m   1090\u001b[0m \u001b[1;33m\u001b[0m\u001b[0m\n\u001b[0;32m   1091\u001b[0m         self._validate_read_indexer(\n\u001b[1;32m-> 1092\u001b[1;33m             \u001b[0mkeyarr\u001b[0m\u001b[1;33m,\u001b[0m \u001b[0mindexer\u001b[0m\u001b[1;33m,\u001b[0m \u001b[0mo\u001b[0m\u001b[1;33m.\u001b[0m\u001b[0m_get_axis_number\u001b[0m\u001b[1;33m(\u001b[0m\u001b[0maxis\u001b[0m\u001b[1;33m)\u001b[0m\u001b[1;33m,\u001b[0m \u001b[0mraise_missing\u001b[0m\u001b[1;33m=\u001b[0m\u001b[0mraise_missing\u001b[0m\u001b[1;33m\u001b[0m\u001b[1;33m\u001b[0m\u001b[0m\n\u001b[0m\u001b[0;32m   1093\u001b[0m         )\n\u001b[0;32m   1094\u001b[0m         \u001b[1;32mreturn\u001b[0m \u001b[0mkeyarr\u001b[0m\u001b[1;33m,\u001b[0m \u001b[0mindexer\u001b[0m\u001b[1;33m\u001b[0m\u001b[1;33m\u001b[0m\u001b[0m\n",
      "\u001b[1;32m~\\Anaconda3\\lib\\site-packages\\pandas\\core\\indexing.py\u001b[0m in \u001b[0;36m_validate_read_indexer\u001b[1;34m(self, key, indexer, axis, raise_missing)\u001b[0m\n\u001b[0;32m   1183\u001b[0m             \u001b[1;32mif\u001b[0m \u001b[1;32mnot\u001b[0m \u001b[1;33m(\u001b[0m\u001b[0mself\u001b[0m\u001b[1;33m.\u001b[0m\u001b[0mname\u001b[0m \u001b[1;33m==\u001b[0m \u001b[1;34m\"loc\"\u001b[0m \u001b[1;32mand\u001b[0m \u001b[1;32mnot\u001b[0m \u001b[0mraise_missing\u001b[0m\u001b[1;33m)\u001b[0m\u001b[1;33m:\u001b[0m\u001b[1;33m\u001b[0m\u001b[1;33m\u001b[0m\u001b[0m\n\u001b[0;32m   1184\u001b[0m                 \u001b[0mnot_found\u001b[0m \u001b[1;33m=\u001b[0m \u001b[0mlist\u001b[0m\u001b[1;33m(\u001b[0m\u001b[0mset\u001b[0m\u001b[1;33m(\u001b[0m\u001b[0mkey\u001b[0m\u001b[1;33m)\u001b[0m \u001b[1;33m-\u001b[0m \u001b[0mset\u001b[0m\u001b[1;33m(\u001b[0m\u001b[0max\u001b[0m\u001b[1;33m)\u001b[0m\u001b[1;33m)\u001b[0m\u001b[1;33m\u001b[0m\u001b[1;33m\u001b[0m\u001b[0m\n\u001b[1;32m-> 1185\u001b[1;33m                 \u001b[1;32mraise\u001b[0m \u001b[0mKeyError\u001b[0m\u001b[1;33m(\u001b[0m\u001b[1;34m\"{} not in index\"\u001b[0m\u001b[1;33m.\u001b[0m\u001b[0mformat\u001b[0m\u001b[1;33m(\u001b[0m\u001b[0mnot_found\u001b[0m\u001b[1;33m)\u001b[0m\u001b[1;33m)\u001b[0m\u001b[1;33m\u001b[0m\u001b[1;33m\u001b[0m\u001b[0m\n\u001b[0m\u001b[0;32m   1186\u001b[0m \u001b[1;33m\u001b[0m\u001b[0m\n\u001b[0;32m   1187\u001b[0m             \u001b[1;31m# we skip the warning on Categorical/Interval\u001b[0m\u001b[1;33m\u001b[0m\u001b[1;33m\u001b[0m\u001b[1;33m\u001b[0m\u001b[0m\n",
      "\u001b[1;31mKeyError\u001b[0m: \"['avg_speed_m', 'avg_speed_h'] not in index\""
     ]
    }
   ],
   "source": [
    "train_data.drop(['store_and_fwd_flag'], axis = 1, inplace = True)\n",
    "train_data.drop(['pickup_date'], axis = 1, inplace = True)\n",
    "train_data.drop(['pickup_time'], axis = 1, inplace = True)\n",
    "train_data.drop(['pickup_datetime'], axis = 1, inplace = True)\n",
    "train_data_tree_X = train_data[['distance_haversine','avg_speed_h', 'avg_speed_m','passenger_count', 'distance_manhattan', 'pickup_longitude', 'pickup_latitude', 'dropoff_longitude', 'dropoff_latitude', 'densité']]\n",
    "train_data_tree_y = train_data['trip_duration']\n",
    "\n",
    "\n",
    "# test_data.drop(['pickup_longitude'], axis = 1, inplace = True)\n",
    "# test_data.drop(['pickup_latitude'], axis = 1, inplace = True)\n",
    "# test_data.drop(['dropoff_longitude'], axis = 1, inplace = True)\n",
    "# test_data.drop(['dropoff_latitude'], axis = 1, inplace = True)\n",
    "test_data.drop(['store_and_fwd_flag'], axis = 1, inplace = True)\n",
    "test_data.drop(['pickup_date'], axis = 1, inplace = True)\n",
    "test_data.drop(['pickup_time'], axis = 1, inplace = True)\n",
    "test_data.drop(['pickup_datetime'], axis = 1, inplace = True)\n",
    "test_data_tree_X = test_data[['distance_haversine','avg_speed_h', 'avg_speed_m','passenger_count', 'distance_manhattan', 'pickup_longitude', 'pickup_latitude', 'dropoff_longitude', 'dropoff_latitude', 'densité']]\n",
    "# test_data_tree_y = test_data['trip_duration']"
   ]
  },
  {
   "cell_type": "code",
   "execution_count": null,
   "metadata": {},
   "outputs": [],
   "source": [
    "train_data_tree_X"
   ]
  },
  {
   "cell_type": "code",
   "execution_count": null,
   "metadata": {},
   "outputs": [],
   "source": [
    "# As with other classifiers, DecisionTreeClassifier takes as input two arrays: an array X, sparse or dense, of size [n_samples, n_features] holding the training samples, and an array Y of integer values, size [n_samples], holding the class labels for the training samples:\n",
    "from sklearn import tree\n",
    "X=train_data_tree_X\n",
    "X_test = test_data_tree_X\n",
    "y=train_data_tree_y\n",
    "\n",
    "reg = tree.DecisionTreeRegressor(max_leaf_nodes=50000)\n",
    "reg = reg.fit(X,y)\n",
    "y_train_predict_tree=reg.predict(X)\n",
    "\n",
    "print(\"La RMSE de l'arbre de régression\",sqrt(mean_squared_error(y, y_train_predict_tree)))\n",
    "\n",
    "#from sklearn.model_selection import cross_validate\n",
    "\n",
    "\n",
    "#X1, X2, y1, y2 = train_test_split(X, y, random_state=6)\n",
    "\n",
    "\n",
    "\n",
    "\n",
    "#depth = []\n",
    "#for i in range(1,2):\n",
    "#    clf = tree.DecisionTreeRegressor(max_depth=90000+i*1000)\n",
    "#    clf = clf.fit(X1,y1)\n",
    "#    print(90000+i*1000,\" \",sqrt(mean_squared_error(clf.predict(X2), y2)))\n",
    "#    depth.append((90000+i*1000,sqrt(mean_squared_error(clf.predict(X2), y2))))\n",
    "#print (depth)\n",
    "\n"
   ]
  },
  {
   "cell_type": "code",
   "execution_count": 29,
   "metadata": {},
   "outputs": [
    {
     "data": {
      "image/png": "[encoded data removed]",
      "text/plain": [
       "<Figure size 432x288 with 1 Axes>"
      ]
     },
     "metadata": {
      "needs_background": "light"
     },
     "output_type": "display_data"
    },
    {
     "data": {
      "image/png": "[encoded data removed]",
      "text/plain": [
       "<Figure size 432x288 with 1 Axes>"
      ]
     },
     "metadata": {
      "needs_background": "light"
     },
     "output_type": "display_data"
    }
   ],
   "source": [
    "mpl.rcParams['agg.path.chunksize'] = 10000\n",
    "plt.plot(y_train_predict_tree,y,'.')\n",
    "plt.show()\n",
    "plt.plot(y,y_train_predict_tree-y,'.')\n",
    "plt.show()"
   ]
  },
  {
   "cell_type": "code",
   "execution_count": 30,
   "metadata": {},
   "outputs": [],
   "source": [
    "y_test_predict_tree=reg.predict(X_test)"
   ]
  },
  {
   "cell_type": "code",
   "execution_count": 31,
   "metadata": {},
   "outputs": [],
   "source": [
    "my_submission = pd.DataFrame({'id': test.id, 'trip_duration': y_test_predict_tree})\n",
    "my_submission.to_csv('submission_tree.csv', index=False)"
   ]
  },
  {
   "cell_type": "code",
   "execution_count": null,
   "metadata": {},
   "outputs": [],
   "source": []
  },
  {
   "cell_type": "code",
   "execution_count": null,
   "metadata": {},
   "outputs": [],
   "source": []
  },
  {
   "cell_type": "code",
   "execution_count": null,
   "metadata": {},
   "outputs": [],
   "source": []
  },
  {
   "cell_type": "code",
   "execution_count": null,
   "metadata": {},
   "outputs": [],
   "source": []
  },
  {
   "cell_type": "code",
   "execution_count": null,
   "metadata": {},
   "outputs": [],
   "source": []
  }
 ],
 "metadata": {
  "kernelspec": {
   "display_name": "Python 3",
   "language": "python",
   "name": "python3"
  },
  "language_info": {
   "codemirror_mode": {
    "name": "ipython",
    "version": 3
   },
   "file_extension": ".py",
   "mimetype": "text/x-python",
   "name": "python",
   "nbconvert_exporter": "python",
   "pygments_lexer": "ipython3",
   "version": "3.7.4"
  }
 },
 "nbformat": 4,
 "nbformat_minor": 4
}
